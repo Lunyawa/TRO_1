{
 "cells": [
  {
   "cell_type": "markdown",
   "id": "94143678",
   "metadata": {},
   "source": [
    "## Рекурсия, перебор\n",
    "### лесенка"
   ]
  },
  {
   "attachments": {
    "image-2.png": {
     "image/png": "[encoded data removed]"
    }
   },
   "cell_type": "markdown",
   "id": "fb1e2a99",
   "metadata": {},
   "source": [
    "Лесенкой называется набор кубиков, в котором каждый более верхний слой содержит кубиков меньше, чем предыдущий. Требуется написать программу, вычисляющую число лесенок, которое можно построить из N кубиков.!![image-2.png](attachment:image-2.png)"
   ]
  },
  {
   "cell_type": "markdown",
   "id": "da66c921",
   "metadata": {},
   "source": [
    "### ВОПРОС\n",
    "Требуется написать программу, вычисляющую число лесенок, которое можно построить из N кубиков."
   ]
  },
  {
   "cell_type": "code",
   "execution_count": 29,
   "id": "12f74fd1",
   "metadata": {},
   "outputs": [
    {
     "name": "stdout",
     "output_type": "stream",
     "text": [
      "количество кубиков в лесенке 7\n"
     ]
    }
   ],
   "source": [
    "n = int(input('количество кубиков в лесенке '))"
   ]
  },
  {
   "cell_type": "code",
   "execution_count": 30,
   "id": "032bc184",
   "metadata": {},
   "outputs": [],
   "source": [
    "from functools import lru_cache\n",
    "@lru_cache\n",
    "def rec(prv, n):\n",
    "    if n == 0:\n",
    "        return 1\n",
    "    ans = 0\n",
    "    lvl = 1\n",
    "    while lvl < prv:\n",
    "        if (n - lvl) < 0:\n",
    "            break\n",
    "        ans += rec(lvl, n - lvl)\n",
    "        lvl += 1\n",
    "    return ans"
   ]
  },
  {
   "cell_type": "code",
   "execution_count": 31,
   "id": "bfabd917",
   "metadata": {},
   "outputs": [
    {
     "name": "stdout",
     "output_type": "stream",
     "text": [
      "Количество лесенок, которое можно построить - 5\n"
     ]
    }
   ],
   "source": [
    "ans = 0\n",
    "lvl = 1\n",
    "while lvl <= n:\n",
    "    ans += rec(lvl, n - lvl)\n",
    "    lvl += 1\n",
    "\n",
    "print(f\"Количество лесенок, которое можно построить - {ans}\")"
   ]
  }
 ],
 "metadata": {
  "kernelspec": {
   "display_name": "Python 3 (ipykernel)",
   "language": "python",
   "name": "python3"
  },
  "language_info": {
   "codemirror_mode": {
    "name": "ipython",
    "version": 3
   },
   "file_extension": ".py",
   "mimetype": "text/x-python",
   "name": "python",
   "nbconvert_exporter": "python",
   "pygments_lexer": "ipython3",
   "version": "3.10.9"
  }
 },
 "nbformat": 4,
 "nbformat_minor": 5
}
